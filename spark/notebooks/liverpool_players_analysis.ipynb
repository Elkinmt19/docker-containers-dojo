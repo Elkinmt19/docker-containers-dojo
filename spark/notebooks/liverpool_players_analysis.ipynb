{
 "cells": [
  {
   "cell_type": "code",
   "execution_count": 1,
   "metadata": {},
   "outputs": [
    {
     "name": "stderr",
     "output_type": "stream",
     "text": [
      "22/08/13 22:52:08 WARN NativeCodeLoader: Unable to load native-hadoop library for your platform... using builtin-java classes where applicable\n",
      "Using Spark's default log4j profile: org/apache/spark/log4j-defaults.properties\n",
      "Setting default log level to \"WARN\".\n",
      "To adjust logging level use sc.setLogLevel(newLevel). For SparkR, use setLogLevel(newLevel).\n"
     ]
    }
   ],
   "source": [
    "from pyspark.sql import SparkSession\n",
    "\n",
    "spark = SparkSession.\\\n",
    "        builder.\\\n",
    "        appName(\"liverpool-players-analysis\").\\\n",
    "        master(\"spark://spark-master:7077\").\\\n",
    "        config(\"spark.executor.memory\", \"512m\").\\\n",
    "        getOrCreate()"
   ]
  },
  {
   "cell_type": "code",
   "execution_count": 2,
   "metadata": {},
   "outputs": [
    {
     "name": "stderr",
     "output_type": "stream",
     "text": [
      "                                                                                \r"
     ]
    }
   ],
   "source": [
    "liverpool_players = spark.read.csv(path=\"../data/liverpool_players.csv\", sep=\",\", header=True)"
   ]
  },
  {
   "cell_type": "code",
   "execution_count": 3,
   "metadata": {},
   "outputs": [
    {
     "name": "stderr",
     "output_type": "stream",
     "text": [
      "[Stage 1:>                                                          (0 + 1) / 1]\r"
     ]
    },
    {
     "name": "stdout",
     "output_type": "stream",
     "text": [
      "+------+--------------------+----------+-----------+-----------+\n",
      "|    id|                name|  position|dateOfBirth|nationality|\n",
      "+------+--------------------+----------+-----------+-----------+\n",
      "|  1795|             Alisson|Goalkeeper| 1992-10-02|     Brazil|\n",
      "|  8197|              Adrián|Goalkeeper| 1987-01-03|      Spain|\n",
      "|102046|   Caoimhin Kelleher|Goalkeeper| 1998-11-23|    Ireland|\n",
      "|  7383|     Kostas Tsimikas|   Defence| 1996-05-12|     Greece|\n",
      "|  7720|   Sepp van den Berg|   Defence| 2001-12-20|Netherlands|\n",
      "|  7861|        James Milner|   Defence| 1986-01-04|    England|\n",
      "|  7862|           Joe Gomez|   Defence| 1997-05-23|    England|\n",
      "|  7865|          Joël Matip|   Defence| 1991-08-08|   Cameroon|\n",
      "|  7867|Trent Alexander-A...|   Defence| 1998-10-07|    England|\n",
      "|  7868|    Andrew Robertson|   Defence| 1994-03-11|   Scotland|\n",
      "+------+--------------------+----------+-----------+-----------+\n",
      "only showing top 10 rows\n",
      "\n"
     ]
    },
    {
     "name": "stderr",
     "output_type": "stream",
     "text": [
      "                                                                                \r"
     ]
    }
   ],
   "source": [
    "liverpool_players.show(n=10)"
   ]
  },
  {
   "cell_type": "code",
   "execution_count": 4,
   "metadata": {},
   "outputs": [],
   "source": [
    "top_scorers_pl = spark.read.csv(path=\"../data/top_scorers_pl.csv\", sep=\",\", header=True)"
   ]
  },
  {
   "cell_type": "code",
   "execution_count": 5,
   "metadata": {},
   "outputs": [
    {
     "name": "stdout",
     "output_type": "stream",
     "text": [
      "+----+-----------------+-----------------+-----------------+-----------+--------------+--------+-----------+--------------------+\n",
      "|  id|             name|        firstName|         lastName|dateOfBirth|   nationality|position|shirtNumber|         lastUpdated|\n",
      "+----+-----------------+-----------------+-----------------+-----------+--------------+--------+-----------+--------------------+\n",
      "|3754|    Mohamed Salah|          Mohamed|            Salah| 1992-06-15|         Egypt| Offence|       null|2022-04-24T17:48:30Z|\n",
      "|3343|     Son Heungmin|         Heungmin|              Son| 1992-07-08|Korea Republic|Midfield|       null|2021-10-13T08:04:15Z|\n",
      "|  44|Cristiano Ronaldo|Cristiano Ronaldo|dos Santos Aveiro| 1985-02-05|      Portugal| Offence|       null|2021-10-13T08:04:10Z|\n",
      "|8004|       Harry Kane|            Harry|             null| 1993-07-28|       England| Offence|       null|2020-11-26T02:25:00Z|\n",
      "|3626|       Sadio Mané|            Sadio|             null| 1992-04-10|       Senegal| Offence|       null|2020-09-07T21:02:43Z|\n",
      "|3330|      Jamie Vardy|            Jamie|             null| 1987-01-11|       England| Offence|       null|2020-11-26T02:14:30Z|\n",
      "|4092|       Diogo Jota|       Diogo José|             null| 1996-12-04|      Portugal| Offence|       null|2020-09-07T21:02:52Z|\n",
      "|3654|  Kevin De Bruyne|            Kevin|        De Bruyne| 1991-06-28|       Belgium|Midfield|       null|2021-10-13T08:04:13Z|\n",
      "|8162|    Wilfried Zaha|         Wilfried|             null| 1992-11-10| Cote d'Ivoire| Offence|       null|2022-01-13T09:47:57Z|\n",
      "|3329|  Raheem Sterling| Raheem Shaquille|         Sterling| 1994-12-08|       England| Offence|       null|2021-10-13T08:03:51Z|\n",
      "+----+-----------------+-----------------+-----------------+-----------+--------------+--------+-----------+--------------------+\n",
      "\n"
     ]
    }
   ],
   "source": [
    "top_scorers_pl.show(n=10)"
   ]
  },
  {
   "cell_type": "code",
   "execution_count": 14,
   "metadata": {},
   "outputs": [],
   "source": [
    "top_liverpool_scorers = liverpool_players.alias(\"lp\").join(\n",
    "    top_scorers_pl.alias(\"ts\"),\n",
    "    ['id'],\n",
    "    \"inner\"\n",
    ").select(\"lp.id\", \"ts.name\", \"ts.firstName\", \"ts.lastName\", \"ts.dateOfBirth\", \"ts.nationality\", \"ts.position\")"
   ]
  },
  {
   "cell_type": "code",
   "execution_count": 15,
   "metadata": {},
   "outputs": [
    {
     "name": "stdout",
     "output_type": "stream",
     "text": [
      "+----+-------------+----------+--------+-----------+-----------+--------+\n",
      "|  id|         name| firstName|lastName|dateOfBirth|nationality|position|\n",
      "+----+-------------+----------+--------+-----------+-----------+--------+\n",
      "|3754|Mohamed Salah|   Mohamed|   Salah| 1992-06-15|      Egypt| Offence|\n",
      "|4092|   Diogo Jota|Diogo José|    null| 1996-12-04|   Portugal| Offence|\n",
      "+----+-------------+----------+--------+-----------+-----------+--------+\n",
      "\n"
     ]
    }
   ],
   "source": [
    "top_liverpool_scorers.show()"
   ]
  },
  {
   "cell_type": "code",
   "execution_count": 17,
   "metadata": {},
   "outputs": [],
   "source": [
    "top_liverpool_scorers.write.csv(\"../data/top_liverpool_scorers\")"
   ]
  }
 ],
 "metadata": {
  "kernelspec": {
   "display_name": "Python 3 (ipykernel)",
   "language": "python",
   "name": "python3"
  },
  "language_info": {
   "codemirror_mode": {
    "name": "ipython",
    "version": 3
   },
   "file_extension": ".py",
   "mimetype": "text/x-python",
   "name": "python",
   "nbconvert_exporter": "python",
   "pygments_lexer": "ipython3",
   "version": "3.9.2"
  },
  "vscode": {
   "interpreter": {
    "hash": "7f6e7a4c744c62f2e3ed48ee7b135344302510fd1f3586e8b4132f2718f17113"
   }
  }
 },
 "nbformat": 4,
 "nbformat_minor": 4
}
