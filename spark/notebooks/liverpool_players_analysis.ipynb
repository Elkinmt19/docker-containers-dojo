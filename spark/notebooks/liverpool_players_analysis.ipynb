{
 "cells": [
  {
   "cell_type": "code",
   "execution_count": 4,
   "metadata": {},
   "outputs": [],
   "source": [
    "from pyspark.sql import SparkSession\n",
    "\n",
    "spark = SparkSession.\\\n",
    "        builder.\\\n",
    "        appName(\"liverpool-players-analysis\").\\\n",
    "        master(\"spark://spark-master:7077\").\\\n",
    "        config(\"spark.executor.memory\", \"512m\").\\\n",
    "        getOrCreate()"
   ]
  },
  {
   "cell_type": "code",
   "execution_count": 7,
   "metadata": {},
   "outputs": [],
   "source": [
    "data = spark.read.csv(path=\"../data/liverpool_players.csv\", sep=\",\", header=True)"
   ]
  },
  {
   "cell_type": "code",
   "execution_count": 8,
   "metadata": {},
   "outputs": [
    {
     "name": "stdout",
     "output_type": "stream",
     "text": [
      "+------+--------------------+----------+-----------+-----------+\n",
      "|    id|                name|  position|dateOfBirth|nationality|\n",
      "+------+--------------------+----------+-----------+-----------+\n",
      "|  1795|             Alisson|Goalkeeper| 1992-10-02|     Brazil|\n",
      "|  8197|              Adrián|Goalkeeper| 1987-01-03|      Spain|\n",
      "|102046|   Caoimhin Kelleher|Goalkeeper| 1998-11-23|    Ireland|\n",
      "|  7383|     Kostas Tsimikas|   Defence| 1996-05-12|     Greece|\n",
      "|  7720|   Sepp van den Berg|   Defence| 2001-12-20|Netherlands|\n",
      "|  7861|        James Milner|   Defence| 1986-01-04|    England|\n",
      "|  7862|           Joe Gomez|   Defence| 1997-05-23|    England|\n",
      "|  7865|          Joël Matip|   Defence| 1991-08-08|   Cameroon|\n",
      "|  7867|Trent Alexander-A...|   Defence| 1998-10-07|    England|\n",
      "|  7868|    Andrew Robertson|   Defence| 1994-03-11|   Scotland|\n",
      "+------+--------------------+----------+-----------+-----------+\n",
      "only showing top 10 rows\n",
      "\n"
     ]
    }
   ],
   "source": [
    "data.show(n=10)"
   ]
  }
 ],
 "metadata": {
  "kernelspec": {
   "display_name": "Python 3 (ipykernel)",
   "language": "python",
   "name": "python3"
  },
  "language_info": {
   "codemirror_mode": {
    "name": "ipython",
    "version": 3
   },
   "file_extension": ".py",
   "mimetype": "text/x-python",
   "name": "python",
   "nbconvert_exporter": "python",
   "pygments_lexer": "ipython3",
   "version": "3.9.2"
  },
  "vscode": {
   "interpreter": {
    "hash": "7f6e7a4c744c62f2e3ed48ee7b135344302510fd1f3586e8b4132f2718f17113"
   }
  }
 },
 "nbformat": 4,
 "nbformat_minor": 4
}
